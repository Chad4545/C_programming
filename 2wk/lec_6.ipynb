{
 "cells": [
  {
   "cell_type": "markdown",
   "metadata": {},
   "source": [
    "## 덧셈 프로그램 - 1, 2 에서 알아야 하는 것\n",
    "\n",
    "- 주석\n",
    "\n",
    "- 전처리기 지시어(#으로 시작)\n",
    "\n",
    "- 함수 시작\n",
    "\n",
    "- 변수선언\n",
    "\n",
    "- 문장 , 연산\n",
    "\n",
    "      printf, scanf\n",
    "\n",
    "- 변수가 저장할 데이터의 형태 : **자료형**\n",
    "    \n",
    "      정수형 - short, int, long (고정소수점)\n",
    "      실수형 - float, double, long double (부동소수점)\n",
    "      문자형 - char\n",
    "      \n",
    "      \n",
    "- **형식 지정자 **\n",
    "  \n",
    "      %d: decimal : 정수를 10진수로 출력\n",
    "      %f: float : 소수점이 있는 실수로 출력한다\n",
    "      %c: character: 문자 형태로 출력한다\n",
    "      %s: string: 문자열 형태로 출력한다"
   ]
  },
  {
   "cell_type": "code",
   "execution_count": null,
   "metadata": {},
   "outputs": [],
   "source": []
  }
 ],
 "metadata": {
  "kernelspec": {
   "display_name": "Python [conda env:anaconda3]",
   "language": "python",
   "name": "conda-env-anaconda3-py"
  },
  "language_info": {
   "codemirror_mode": {
    "name": "ipython",
    "version": 3
   },
   "file_extension": ".py",
   "mimetype": "text/x-python",
   "name": "python",
   "nbconvert_exporter": "python",
   "pygments_lexer": "ipython3",
   "version": "3.6.4"
  }
 },
 "nbformat": 4,
 "nbformat_minor": 2
}
