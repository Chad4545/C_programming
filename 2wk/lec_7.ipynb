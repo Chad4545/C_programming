{
 "cells": [
  {
   "cell_type": "markdown",
   "metadata": {},
   "source": [
    "##  변수와 자료형\n",
    "\n",
    "### 정수형 - short , int, long \n",
    "\n",
    "#### 부호있음\n",
    "\n",
    "- short : 2bytes  범위 : -32768 ~ 32767\n",
    "\n",
    "- int : 4bytes    범위 : -2147483648 ~ 2147483647\n",
    "\n",
    "- long : 4bytes   범위 : -2147483648 ~ 2147483647\n",
    "\n",
    "#### 부호없음\n",
    "\n",
    "- unsigned short: 2bytes  범위 : 0 ~ 65535\n",
    " \n",
    "- unsigned int : 4bytes  범위 : 0 ~ 4294967295\n",
    "\n",
    "- unsigned long : 4bytes  범위 : 0 ~ 4294967295\n",
    "\n",
    "---\n",
    "\n",
    "### 문자형 \n",
    "\n",
    "\n",
    "#### 부호있음 \n",
    "\n",
    "- char : 1byte    범위 : -128 ~ 127\n",
    "\n",
    "#### 부호없음\n",
    "\n",
    "- unsigned char : 1byte   범위 : 0~ 255\n",
    "\n",
    "---\n",
    "\n",
    "### 부동소수점형\n",
    "\n",
    "- 지수부분 8비트 \n",
    "\n",
    "- float : 4bytes   범위 +-1.17549E-38~ +-3.40282E+38  / 유효숫자 - 가수부 : 6자리\n",
    "\n",
    "- double : 8bytes  범위 +-2.22507E-308 ~ +-1.79769E308 / 유효숫자 - 가수부 : 15~16자리 \n",
    "\n",
    "- -> %d %f %e  double = %lf\n",
    "\n",
    "\n",
    "\n",
    "---\n",
    "\n",
    "### etc : 형식지정자 \n",
    "\n",
    "- int : %d\n",
    "\n",
    "- unsigned int : %u\n",
    "\n",
    "- long : %ld\n",
    "\n",
    "- unsigned long : %lu\n"
   ]
  },
  {
   "cell_type": "code",
   "execution_count": null,
   "metadata": {},
   "outputs": [],
   "source": []
  }
 ],
 "metadata": {
  "kernelspec": {
   "display_name": "Python [conda env:anaconda3]",
   "language": "python",
   "name": "conda-env-anaconda3-py"
  },
  "language_info": {
   "codemirror_mode": {
    "name": "ipython",
    "version": 3
   },
   "file_extension": ".py",
   "mimetype": "text/x-python",
   "name": "python",
   "nbconvert_exporter": "python",
   "pygments_lexer": "ipython3",
   "version": "3.6.4"
  }
 },
 "nbformat": 4,
 "nbformat_minor": 2
}
